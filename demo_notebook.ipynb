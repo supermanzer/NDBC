{
 "cells": [
  {
   "cell_type": "markdown",
   "metadata": {},
   "source": [
    "# NDBC Data Buoy Class Demo\n",
    "\n",
    "Some simple examples of use cases for the NDBC DataBuoy class\n"
   ]
  },
  {
   "cell_type": "markdown",
   "metadata": {},
   "source": [
    "## Import Class and Printer"
   ]
  },
  {
   "cell_type": "code",
   "execution_count": 7,
   "metadata": {},
   "outputs": [],
   "source": [
    "from NDBC.NDBC import DataBuoy\n",
    "import pprint\n",
    "\n",
    "printer = pprint.PrettyPrinter(indent=4)"
   ]
  },
  {
   "cell_type": "markdown",
   "metadata": {},
   "source": [
    "## Instantiate Buoy Object - Get Station Metadata\n",
    "---\n",
    "This data is scraped from the station website. In order to ensure no data is lost, all the data scraped is retained in original string format"
   ]
  },
  {
   "cell_type": "code",
   "execution_count": 8,
   "metadata": {},
   "outputs": [
    {
     "name": "stdout",
     "output_type": "stream",
     "text": [
      "{   'Air temp height': '3.7 m above site elevation',\n",
      "    'Anemometer height': '4.1 m above site elevation',\n",
      "    'Barometer elevation': '2.7 m above mean sea level',\n",
      "    'Sea temp depth': '1.5 m below water line',\n",
      "    'Site elevation': 'sea level',\n",
      "    'Watch circle radius': '1793 yards',\n",
      "    'Water depth': '1645.9 m',\n",
      "    'lat': '36.785 N',\n",
      "    'lon': '122.398 W'}\n"
     ]
    }
   ],
   "source": [
    "n42 = DataBuoy(46042)\n",
    "n42.get_station_metadata()\n",
    "printer.pprint(n42.station_info)"
   ]
  },
  {
   "cell_type": "markdown",
   "metadata": {},
   "source": [
    "## Get Most Recent Monthly Standard Meteorology Data\n",
    "---\n",
    "Standard meteorological data is fetched from QC'd .txt files.  Data is loaded into a pandas DataFrame and metadata associated with the file (headers) is stored as the measured units.\n",
    "\n",
    "### Data can also be accessed using dot notation for known data packages (new v.1.1.0)\n",
    "To faciliate rapid iterations, simple getter methods have been added to allow dot notation access.\n",
    "\n",
    "To see a list of known data packages that can be downloaded by the DataBuoy class, simply review the DATA_PACKAGES constant\n"
   ]
  },
  {
   "cell_type": "code",
   "execution_count": 12,
   "metadata": {},
   "outputs": [
    {
     "name": "stderr",
     "output_type": "stream",
     "text": [
      "Apr 2021 not available.\n",
      " Mar 2021 not available.\n",
      " \n"
     ]
    },
    {
     "name": "stdout",
     "output_type": "stream",
     "text": [
      "       WDIR  WSPD  GST  WVHT    DPD   APD    MWD    PRES  ATMP  WTMP  DEWP  \\\n",
      "1     152.0   3.1  4.2   NaN    NaN   NaN    NaN  1019.3  11.6  12.1  10.5   \n",
      "2     157.0   2.9  4.3   NaN    NaN   NaN    NaN  1019.2  11.7  12.1  10.5   \n",
      "3     152.0   2.8  3.9   NaN    NaN   NaN    NaN  1019.3  11.7  12.1  10.5   \n",
      "4     144.0   2.7  3.8   NaN    NaN   NaN    NaN  1019.2  11.7  12.1  10.4   \n",
      "5     144.0   2.4  3.7  2.19  14.81  8.83  296.0  1019.2  11.7  12.0  10.4   \n",
      "...     ...   ...  ...   ...    ...   ...    ...     ...   ...   ...   ...   \n",
      "4020  307.0   3.1  4.5   NaN    NaN   NaN    NaN  1021.6  11.4  11.2   8.6   \n",
      "4021  314.0   3.4  5.4   NaN    NaN   NaN    NaN  1021.6  11.4  11.2   8.5   \n",
      "4022  313.0   3.6  5.3   NaN    NaN   NaN    NaN  1021.5  11.4  11.2   8.5   \n",
      "4023  312.0   4.6  6.7  2.63  10.00  7.58  299.0  1021.5  11.4  11.2   8.4   \n",
      "4024  310.0   4.3  5.9   NaN    NaN   NaN    NaN  1021.5  11.4  11.2   8.5   \n",
      "\n",
      "      VIS  TIDE            datetime  \n",
      "1     NaN   NaN 2021-02-01 00:00:00  \n",
      "2     NaN   NaN 2021-02-01 00:10:00  \n",
      "3     NaN   NaN 2021-02-01 00:20:00  \n",
      "4     NaN   NaN 2021-02-01 00:30:00  \n",
      "5     NaN   NaN 2021-02-01 00:40:00  \n",
      "...   ...   ...                 ...  \n",
      "4020  NaN   NaN 2021-02-28 23:10:00  \n",
      "4021  NaN   NaN 2021-02-28 23:20:00  \n",
      "4022  NaN   NaN 2021-02-28 23:30:00  \n",
      "4023  NaN   NaN 2021-02-28 23:40:00  \n",
      "4024  NaN   NaN 2021-02-28 23:50:00  \n",
      "\n",
      "[16096 rows x 14 columns]\n",
      "{   'cwind': {'name': 'Continous Wind Data', 'url_char': 'c'},\n",
      "    'srad': {'name': 'Solar radiation data', 'url_char': 'r'},\n",
      "    'stdmet': {'name': 'Standard meteoroligcal data', 'url_char': 'h'},\n",
      "    'swden': {'name': 'Spectral Wave Density data', 'url_char': 'w'},\n",
      "    'swdir': {'name': 'Spectral wave (alpha1) direction data', 'url_char': 'd'},\n",
      "    'swdir2': {   'name': 'Spectral wave (alpha2) direction data',\n",
      "                  'url_char': 'i'},\n",
      "    'swr1': {'name': 'Spectral wave (r1) direction data', 'url_char': 'j'},\n",
      "    'swr2': {'name': 'Spectral wave (r2) direction data', 'url_char': 'k'}}\n"
     ]
    }
   ],
   "source": [
    "n42.get_data()\n",
    "# printer.pprint(n42.data)\n",
    "\n",
    "# Using @property function for dot notation\n",
    "printer.pprint(n42.stdmet)\n",
    "\n",
    "# Reviewing known data packages\n",
    "printer.pprint(n42.DATA_PACKAGES)"
   ]
  },
  {
   "cell_type": "markdown",
   "metadata": {},
   "source": [
    "## Get Specific time Period\n",
    "---\n",
    "The `get_data()` method supports providing lists of months (for current 12 month period) and years.  Additionally you can specify the data package (_see above output_) as well as whether or not to use the datetime values as the index of the dataframe."
   ]
  },
  {
   "cell_type": "code",
   "execution_count": 17,
   "metadata": {},
   "outputs": [
    {
     "name": "stdout",
     "output_type": "stream",
     "text": [
      "                     .0200  .0325  .0375  .0425  .0475  .0525  .0575  .0625  \\\n",
      "2021-01-01 00:40:00    0.0    0.0    0.0   0.00   1.17   9.11  24.25  24.95   \n",
      "2021-01-01 01:40:00    0.0    0.0    0.0   0.00   0.00  13.76  26.55  22.40   \n",
      "2021-01-01 02:40:00    0.0    0.0    0.0   0.00   0.93   4.40  16.03  33.95   \n",
      "2021-01-01 03:40:00    0.0    0.0    0.0   0.07   1.14   6.95  27.94  45.68   \n",
      "2021-01-01 04:40:00    0.0    0.0    0.0   0.00   0.76   3.64  11.23  18.23   \n",
      "...                    ...    ...    ...    ...    ...    ...    ...    ...   \n",
      "2021-02-28 19:40:00    0.0    0.0    0.0   0.00   0.00   0.00   0.06   0.25   \n",
      "2021-02-28 20:40:00    0.0    0.0    0.0   0.02   0.05   0.08   0.24   1.02   \n",
      "2021-02-28 21:40:00    0.0    0.0    0.0   0.00   0.00   0.15   0.30   0.36   \n",
      "2021-02-28 22:40:00    0.0    0.0    0.0   0.00   0.01   0.09   0.10   0.32   \n",
      "2021-02-28 23:40:00    0.0    0.0    0.0   0.00   0.00   0.00   0.18   0.25   \n",
      "\n",
      "                     .0675  .0725  ...  .3300  .3400  .3500  .3650  .3850  \\\n",
      "2021-01-01 00:40:00  15.84  20.44  ...   0.20   0.13   0.07   0.06   0.05   \n",
      "2021-01-01 01:40:00  24.12  30.09  ...   0.16   0.06   0.16   0.06   0.03   \n",
      "2021-01-01 02:40:00  41.48  38.02  ...   0.14   0.14   0.10   0.07   0.05   \n",
      "2021-01-01 03:40:00  41.92  30.11  ...   0.09   0.08   0.15   0.09   0.04   \n",
      "2021-01-01 04:40:00  29.84  27.19  ...   0.16   0.08   0.08   0.07   0.08   \n",
      "...                    ...    ...  ...    ...    ...    ...    ...    ...   \n",
      "2021-02-28 19:40:00   1.42   2.50  ...   0.08   0.10   0.04   0.02   0.02   \n",
      "2021-02-28 20:40:00   3.97   4.97  ...   0.06   0.05   0.10   0.04   0.03   \n",
      "2021-02-28 21:40:00   1.63   4.18  ...   0.08   0.04   0.05   0.06   0.02   \n",
      "2021-02-28 22:40:00   2.84   3.82  ...   0.05   0.05   0.08   0.06   0.03   \n",
      "2021-02-28 23:40:00   1.78   3.97  ...   0.08   0.08   0.06   0.03   0.02   \n",
      "\n",
      "                     .4050  .4250  .4450  .4650  .4850  \n",
      "2021-01-01 00:40:00   0.03   0.01   0.01   0.00    0.0  \n",
      "2021-01-01 01:40:00   0.05   0.02   0.01   0.00    0.0  \n",
      "2021-01-01 02:40:00   0.03   0.02   0.01   0.00    0.0  \n",
      "2021-01-01 03:40:00   0.02   0.01   0.00   0.01    0.0  \n",
      "2021-01-01 04:40:00   0.05   0.01   0.01   0.00    0.0  \n",
      "...                    ...    ...    ...    ...    ...  \n",
      "2021-02-28 19:40:00   0.03   0.01   0.00   0.00    0.0  \n",
      "2021-02-28 20:40:00   0.01   0.01   0.00   0.00    0.0  \n",
      "2021-02-28 21:40:00   0.01   0.01   0.00   0.00    0.0  \n",
      "2021-02-28 22:40:00   0.01   0.01   0.00   0.00    0.0  \n",
      "2021-02-28 23:40:00   0.01   0.01   0.00   0.00    0.0  \n",
      "\n",
      "[4239 rows x 47 columns]\n"
     ]
    }
   ],
   "source": [
    "n42.get_data(months=[1,2], data_type='swden', datetime_index=True)\n",
    "printer.pprint(n42.swden)"
   ]
  },
  {
   "cell_type": "code",
   "execution_count": null,
   "metadata": {},
   "outputs": [],
   "source": []
  }
 ],
 "metadata": {
  "kernelspec": {
   "display_name": "Python 3.8.5 64-bit ('code_mmms': conda)",
   "language": "python",
   "name": "python38564bitcodemmmsconda6ffd75b074894f2aad491aadd6120341"
  },
  "language_info": {
   "codemirror_mode": {
    "name": "ipython",
    "version": 3
   },
   "file_extension": ".py",
   "mimetype": "text/x-python",
   "name": "python",
   "nbconvert_exporter": "python",
   "pygments_lexer": "ipython3",
   "version": "3.8.5"
  }
 },
 "nbformat": 4,
 "nbformat_minor": 4
}
