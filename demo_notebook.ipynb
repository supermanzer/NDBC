{
 "cells": [
  {
   "cell_type": "markdown",
   "metadata": {},
   "source": [
    "# NDBC Data Buoy Class Demo\n",
    "\n",
    "Some simple examples of use cases for the NDBC DataBuoy class\n"
   ]
  },
  {
   "cell_type": "markdown",
   "metadata": {},
   "source": [
    "## Import Class and Printer"
   ]
  },
  {
   "cell_type": "code",
   "execution_count": 5,
   "metadata": {},
   "outputs": [],
   "source": [
    "from NDBC.NDBC import DataBuoy\n",
    "import pprint\n",
    "\n",
    "printer = pprint.PrettyPrinter(indent=4)"
   ]
  },
  {
   "cell_type": "markdown",
   "metadata": {},
   "source": [
    "## Instantiate Buoy Object - Get Station Metadata\n",
    "---\n",
    "This data is scraped from the station website. In order to ensure no data is lost, all the data scraped is retained in original string format"
   ]
  },
  {
   "cell_type": "code",
   "execution_count": 2,
   "metadata": {},
   "outputs": [
    {
     "name": "stdout",
     "output_type": "stream",
     "text": [
      "{   'Air temp height': '3.7 m above site elevation',\n",
      "    'Anemometer height': '4.1 m above site elevation',\n",
      "    'Barometer elevation': '2.7 m above mean sea level',\n",
      "    'Sea temp depth': '1.5 m below water line',\n",
      "    'Site elevation': 'sea level',\n",
      "    'Watch circle radius': '1789 yards',\n",
      "    'Water depth': '1645.9 m',\n",
      "    'lat': '36.785 N',\n",
      "    'lon': '122.398 W'}\n"
     ]
    }
   ],
   "source": [
    "n42 = DataBuoy(46042)\n",
    "n42.get_station_metadata()\n",
    "printer.pprint(n42.station_info)"
   ]
  },
  {
   "cell_type": "markdown",
   "metadata": {},
   "source": [
    "## Get Most Recent Monthly Standard Meteorology Data\n",
    "---\n",
    "Standard meteorological data is fetched from QC'd .txt files.  Data is loaded into a pandas DataFrame and metadata associated with the file (headers) is stored as the measured units."
   ]
  },
  {
   "cell_type": "code",
   "execution_count": 3,
   "metadata": {},
   "outputs": [
    {
     "name": "stderr",
     "output_type": "stream",
     "text": [
      "Jan 2021 not available.\n",
      " \n"
     ]
    },
    {
     "name": "stdout",
     "output_type": "stream",
     "text": [
      "{   'stdmet': {   'data':      WDIR  WSPD   GST  WVHT    DPD   APD  MWD    PRES  ATMP  WTMP DEWP  VIS  \\\n",
      "1     327   NaN  11.5   NaN    NaN   NaN  NaN  1023.4  12.0  12.0  NaN  NaN   \n",
      "2     327   NaN  12.1   NaN    NaN   NaN  NaN  1023.4  11.9  12.0  NaN  NaN   \n",
      "3     328   NaN  12.4   NaN    NaN   NaN  NaN  1023.3  11.9  12.0  NaN  NaN   \n",
      "4     323  10.1  12.0   NaN    NaN   NaN  NaN  1023.4  11.8  12.0  NaN  NaN   \n",
      "5     324  10.4  13.7  2.50  19.05  6.79  310  1023.4  11.8  12.0  NaN  NaN   \n",
      "...   ...   ...   ...   ...    ...   ...  ...     ...   ...   ...  ...  ...   \n",
      "4459  329  11.9  15.2   NaN    NaN   NaN  NaN  1020.7  11.8  12.4  NaN  NaN   \n",
      "4460  329  12.4  15.7   NaN    NaN   NaN  NaN  1020.5  11.8  12.4  NaN  NaN   \n",
      "4461  329  12.5  15.5   NaN    NaN   NaN  NaN  1020.7  11.8  12.4  NaN  NaN   \n",
      "4462  328  13.2  16.7  4.44  16.00  9.26  304  1020.6  11.9  12.4  NaN  NaN   \n",
      "4463  330  12.3  15.4   NaN    NaN   NaN  NaN  1020.6  11.9  12.4  NaN  NaN   \n",
      "\n",
      "      TIDE            datetime  \n",
      "1      NaN 2020-12-01 00:00:00  \n",
      "2      NaN 2020-12-01 00:10:00  \n",
      "3      NaN 2020-12-01 00:20:00  \n",
      "4      NaN 2020-12-01 00:30:00  \n",
      "5      NaN 2020-12-01 00:40:00  \n",
      "...    ...                 ...  \n",
      "4459   NaN 2020-12-31 23:10:00  \n",
      "4460   NaN 2020-12-31 23:20:00  \n",
      "4461   NaN 2020-12-31 23:30:00  \n",
      "4462   NaN 2020-12-31 23:40:00  \n",
      "4463   NaN 2020-12-31 23:50:00  \n",
      "\n",
      "[4463 rows x 14 columns],\n",
      "                  'meta': {   'units': {   'APD': 'sec',\n",
      "                                           'ATMP': 'degC',\n",
      "                                           'DD': 'dy',\n",
      "                                           'DEWP': 'degC',\n",
      "                                           'DPD': 'sec',\n",
      "                                           'GST': 'm/s',\n",
      "                                           'MM': 'mo',\n",
      "                                           'MWD': 'deg',\n",
      "                                           'PRES': 'hPa',\n",
      "                                           'TIDE': 'ft',\n",
      "                                           'VIS': 'nmi',\n",
      "                                           'WDIR': 'degT',\n",
      "                                           'WSPD': 'm/s',\n",
      "                                           'WTMP': 'degC',\n",
      "                                           'WVHT': 'm',\n",
      "                                           'YY': '#yr',\n",
      "                                           'hh': 'hr',\n",
      "                                           'mm': 'mn'}}}}\n"
     ]
    }
   ],
   "source": [
    "n42.get_stdmet()\n",
    "printer.pprint(n42.data)\n"
   ]
  }
 ],
 "metadata": {
  "kernelspec": {
   "display_name": "Python 3",
   "language": "python",
   "name": "python3"
  },
  "language_info": {
   "codemirror_mode": {
    "name": "ipython",
    "version": 3
   },
   "file_extension": ".py",
   "mimetype": "text/x-python",
   "name": "python",
   "nbconvert_exporter": "python",
   "pygments_lexer": "ipython3",
   "version": "3.7.9"
  }
 },
 "nbformat": 4,
 "nbformat_minor": 4
}
